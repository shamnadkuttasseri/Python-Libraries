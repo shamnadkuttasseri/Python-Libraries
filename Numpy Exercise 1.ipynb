{
 "cells": [
  {
   "cell_type": "code",
   "execution_count": null,
   "id": "21b3765d",
   "metadata": {},
   "outputs": [],
   "source": [
    "#1.Create a NumPy array a with values 1 through 9. Reshape the array to a 3x3 matrix."
   ]
  },
  {
   "cell_type": "code",
   "execution_count": 2,
   "id": "8b0ecdbc",
   "metadata": {},
   "outputs": [],
   "source": [
    "import numpy as np"
   ]
  },
  {
   "cell_type": "code",
   "execution_count": 6,
   "id": "bebe7b25",
   "metadata": {},
   "outputs": [
    {
     "name": "stdout",
     "output_type": "stream",
     "text": [
      "[[1 2 3]\n",
      " [4 5 6]\n",
      " [7 8 9]]\n"
     ]
    }
   ],
   "source": [
    "a=np.array([1,2,3,4,5,6,7,8,9])\n",
    "b=a.reshape(3,3)\n",
    "print(b)"
   ]
  },
  {
   "cell_type": "code",
   "execution_count": null,
   "id": "402de753",
   "metadata": {},
   "outputs": [],
   "source": [
    "#2.Create a NumPy array b with values 5 through 13. Reshape the array to a 3x3 matrix."
   ]
  },
  {
   "cell_type": "code",
   "execution_count": 2,
   "id": "948b64ce",
   "metadata": {},
   "outputs": [
    {
     "data": {
      "text/plain": [
       "array([[ 5,  6,  7],\n",
       "       [ 8,  9, 10],\n",
       "       [11, 12, 13]])"
      ]
     },
     "execution_count": 2,
     "metadata": {},
     "output_type": "execute_result"
    }
   ],
   "source": [
    "b=np.array([5,6,7,8,9,10,11,12,13])\n",
    "b.reshape(3,3)"
   ]
  },
  {
   "cell_type": "code",
   "execution_count": null,
   "id": "44f5b999",
   "metadata": {},
   "outputs": [],
   "source": [
    "#3.Multiply the matrix a by the matrix b using the @ operator."
   ]
  },
  {
   "cell_type": "code",
   "execution_count": 4,
   "id": "f29f9456",
   "metadata": {},
   "outputs": [
    {
     "name": "stdout",
     "output_type": "stream",
     "text": [
      "[[1 2]\n",
      " [3 4]]\n",
      "[[5 6]\n",
      " [7 8]]\n",
      "[[19 22]\n",
      " [43 50]]\n"
     ]
    }
   ],
   "source": [
    "a=np.array([[1,2],[3,4]])\n",
    "b=np.array([[5,6],[7,8]])\n",
    "\n",
    "\n",
    "print(a)\n",
    "print(b)\n",
    "result=a@b\n",
    "print(result)"
   ]
  },
  {
   "cell_type": "code",
   "execution_count": null,
   "id": "9ccbe22b",
   "metadata": {},
   "outputs": [],
   "source": [
    "#4.Compute the dot product of the first row of a with the first column of b."
   ]
  },
  {
   "cell_type": "code",
   "execution_count": 6,
   "id": "5226824a",
   "metadata": {},
   "outputs": [
    {
     "name": "stdout",
     "output_type": "stream",
     "text": [
      "Dot product of the first row of a and the first column of b: 19\n"
     ]
    }
   ],
   "source": [
    "a=np.array([[1,2],[3,4]])\n",
    "b=np.array([[5,6],[7,8]])\n",
    "\n",
    "first_row_a = a[0]\n",
    "first_column_b = b[:, 0]\n",
    "\n",
    "dot_product = np.dot(first_row_a, first_column_b)\n",
    "\n",
    "print(\"Dot product of the first row of a and the first column of b:\", dot_product)"
   ]
  },
  {
   "cell_type": "code",
   "execution_count": null,
   "id": "1b4a2685",
   "metadata": {},
   "outputs": [],
   "source": [
    "#5.Compute the sum of all the elements in the matrix a."
   ]
  },
  {
   "cell_type": "code",
   "execution_count": 7,
   "id": "e52bf0e8",
   "metadata": {},
   "outputs": [
    {
     "data": {
      "text/plain": [
       "10"
      ]
     },
     "execution_count": 7,
     "metadata": {},
     "output_type": "execute_result"
    }
   ],
   "source": [
    "a=np.array([[1,2],[3,4]])\n",
    "np.sum(a)"
   ]
  },
  {
   "cell_type": "code",
   "execution_count": null,
   "id": "7a5eba11",
   "metadata": {},
   "outputs": [],
   "source": [
    "#6.Compute the product of all the elements in the matrix b."
   ]
  },
  {
   "cell_type": "code",
   "execution_count": 18,
   "id": "150706fa",
   "metadata": {},
   "outputs": [
    {
     "name": "stdout",
     "output_type": "stream",
     "text": [
      "362880\n"
     ]
    }
   ],
   "source": [
    "b=np.array([[1,2,3],\n",
    "          [4,5,6,],\n",
    "            [7,8,9]])\n",
    "product_b=np.product(b)\n",
    "print(product_b)"
   ]
  },
  {
   "cell_type": "code",
   "execution_count": null,
   "id": "c8a58997",
   "metadata": {},
   "outputs": [],
   "source": [
    "#7.Create a 1D NumPy array c with values [1, 2, 3, 4, 5]. Use the np.insert() function to insert the value 0 at index 2."
   ]
  },
  {
   "cell_type": "code",
   "execution_count": 24,
   "id": "70bab518",
   "metadata": {},
   "outputs": [
    {
     "name": "stdout",
     "output_type": "stream",
     "text": [
      "[1 2 0 3 4 5]\n"
     ]
    }
   ],
   "source": [
    "c=np.array([1, 2, 3, 4, 5])\n",
    "\n",
    "c=np.insert(c,2,0)\n",
    "print(c)"
   ]
  },
  {
   "cell_type": "code",
   "execution_count": null,
   "id": "1c38f1c0",
   "metadata": {},
   "outputs": [],
   "source": [
    "#8.Create a 1D NumPy array d with values [1, 2, 3, 4, 5]. Use the np.delete() function to delete the value at index 3."
   ]
  },
  {
   "cell_type": "code",
   "execution_count": 27,
   "id": "37d0f3ee",
   "metadata": {},
   "outputs": [
    {
     "name": "stdout",
     "output_type": "stream",
     "text": [
      "[1 2 3 5]\n"
     ]
    }
   ],
   "source": [
    "d=np.array([1,2,3,4,5])\n",
    "\n",
    "d=np.delete(d,3)\n",
    "\n",
    "print(d)"
   ]
  },
  {
   "cell_type": "code",
   "execution_count": null,
   "id": "a6b3ed36",
   "metadata": {},
   "outputs": [],
   "source": [
    "#9.Create a 2D NumPy array e with dimensions 3x4 and values 1 through 12. Use boolean indexing to select all elements\n",
    "#greater than 5."
   ]
  },
  {
   "cell_type": "code",
   "execution_count": 7,
   "id": "3e562f00",
   "metadata": {},
   "outputs": [
    {
     "name": "stdout",
     "output_type": "stream",
     "text": [
      "[ 6  7  8  9 10 11 12]\n"
     ]
    }
   ],
   "source": [
    "e = np.arange(1, 13).reshape(3, 4)\n",
    "\n",
    "\n",
    "result = e[e > 5]\n",
    "\n",
    "print(result)\n"
   ]
  },
  {
   "cell_type": "code",
   "execution_count": null,
   "id": "f50b7361",
   "metadata": {},
   "outputs": [],
   "source": [
    "# 10.Create a 2D NumPy array f with dimensions 4x5 and values 1 through 20. Use fancy indexing to select the elements at\n",
    "# positions (0,0), (1,2), and (2,4)."
   ]
  },
  {
   "cell_type": "code",
   "execution_count": 4,
   "id": "0dc9a3e4",
   "metadata": {},
   "outputs": [
    {
     "name": "stdout",
     "output_type": "stream",
     "text": [
      "Array F:\n",
      "[[ 1  2  3  4  5]\n",
      " [ 6  7  8  9 10]\n",
      " [11 12 13 14 15]\n",
      " [16 17 18 19 20]]\n",
      "\n",
      "Selected elements at positions (0,0), (1,2), and (2,4):\n",
      "[ 1  8 15]\n"
     ]
    }
   ],
   "source": [
    "import numpy as np\n",
    "\n",
    "f=np.arange(1, 21)\n",
    "\n",
    "F=f.reshape(4,5)\n",
    "\n",
    "selected_elements = F[[0, 1, 2], [0, 2, 4]]\n",
    "\n",
    "print(\"Array F:\")\n",
    "print(F)\n",
    "\n",
    "print(\"\\nSelected elements at positions (0,0), (1,2), and (2,4):\")\n",
    "print(selected_elements)"
   ]
  },
  {
   "cell_type": "code",
   "execution_count": null,
   "id": "31b259fa",
   "metadata": {},
   "outputs": [],
   "source": [
    "#11.Create a 2D NumPy array a with dimensions 5x5 and values 0.5 in the diagonal and 0 elsewhere."
   ]
  },
  {
   "cell_type": "code",
   "execution_count": 10,
   "id": "c62d269f",
   "metadata": {},
   "outputs": [
    {
     "name": "stdout",
     "output_type": "stream",
     "text": [
      "Array a:\n",
      "[[0.5 0.  0.  0.  0. ]\n",
      " [0.  0.5 0.  0.  0. ]\n",
      " [0.  0.  0.5 0.  0. ]\n",
      " [0.  0.  0.  0.5 0. ]\n",
      " [0.  0.  0.  0.  0.5]]\n"
     ]
    }
   ],
   "source": [
    "import numpy as np\n",
    "\n",
    "a = np.eye(5) * 0.5\n",
    "\n",
    "print(\"Array a:\")\n",
    "print(a)"
   ]
  },
  {
   "cell_type": "code",
   "execution_count": null,
   "id": "01a1a54d",
   "metadata": {},
   "outputs": [],
   "source": [
    "#12.Create a 3D NumPy array b with dimensions 3x3x3 and random integer values between 0 and 10."
   ]
  },
  {
   "cell_type": "code",
   "execution_count": 6,
   "id": "b6c53030",
   "metadata": {},
   "outputs": [
    {
     "name": "stdout",
     "output_type": "stream",
     "text": [
      "Array b:\n",
      "[[[ 0  2  3]\n",
      "  [ 6  9  4]\n",
      "  [ 8  9 10]]\n",
      "\n",
      " [[ 1  4 10]\n",
      "  [ 7  5  1]\n",
      "  [10  6  9]]\n",
      "\n",
      " [[ 6  5 10]\n",
      "  [ 1  1  4]\n",
      "  [ 3 10  4]]]\n"
     ]
    }
   ],
   "source": [
    "b = np.random.randint(0, 11, size=(3, 3, 3))\n",
    "\n",
    "print(\"Array b:\")\n",
    "print(b)"
   ]
  },
  {
   "cell_type": "code",
   "execution_count": null,
   "id": "748b2931",
   "metadata": {},
   "outputs": [],
   "source": [
    "#13.Compute the mean of each row of the matrix b."
   ]
  },
  {
   "cell_type": "code",
   "execution_count": 7,
   "id": "5e27f937",
   "metadata": {},
   "outputs": [
    {
     "name": "stdout",
     "output_type": "stream",
     "text": [
      "mean of each row of matrix b:\n",
      "[[4.66666667 6.66666667 5.66666667]\n",
      " [6.         5.         6.66666667]\n",
      " [3.33333333 5.33333333 6.        ]]\n"
     ]
    }
   ],
   "source": [
    "row_mean=np.mean(b,axis=1)\n",
    "\n",
    "print(\"mean of each row of matrix b:\")\n",
    "print(row_mean)"
   ]
  },
  {
   "cell_type": "code",
   "execution_count": null,
   "id": "f24aed7c",
   "metadata": {},
   "outputs": [],
   "source": [
    "#14.Compute the standard deviation of each column of the matrix a."
   ]
  },
  {
   "cell_type": "code",
   "execution_count": 13,
   "id": "6a389858",
   "metadata": {},
   "outputs": [
    {
     "name": "stdout",
     "output_type": "stream",
     "text": [
      "mean_columns: [0.1 0.1 0.1 0.1 0.1]\n",
      "deviations: [[ 0.4 -0.1 -0.1 -0.1 -0.1]\n",
      " [-0.1  0.4 -0.1 -0.1 -0.1]\n",
      " [-0.1 -0.1  0.4 -0.1 -0.1]\n",
      " [-0.1 -0.1 -0.1  0.4 -0.1]\n",
      " [-0.1 -0.1 -0.1 -0.1  0.4]]\n",
      "squared_deviations: [[0.16 0.01 0.01 0.01 0.01]\n",
      " [0.01 0.16 0.01 0.01 0.01]\n",
      " [0.01 0.01 0.16 0.01 0.01]\n",
      " [0.01 0.01 0.01 0.16 0.01]\n",
      " [0.01 0.01 0.01 0.01 0.16]]\n",
      "mean_squared_deviations : [0.04 0.04 0.04 0.04 0.04]\n",
      "Standard Deviation of each column: [0.2 0.2 0.2 0.2 0.2]\n"
     ]
    }
   ],
   "source": [
    "\n",
    "\n",
    "mean_columns = np.mean(a, axis=0)\n",
    "\n",
    "deviations = a - mean_columns\n",
    "\n",
    "squared_deviations = deviations ** 2\n",
    "\n",
    "mean_squared_deviations = np.mean(squared_deviations, axis=0)\n",
    "\n",
    "standard_deviations = np.sqrt(mean_squared_deviations)\n",
    "\n",
    "print('mean_columns:',mean_columns)\n",
    "print(\"deviations:\",deviations)\n",
    "print(\"squared_deviations:\",squared_deviations)\n",
    "print(\"mean_squared_deviations :\",mean_squared_deviations )\n",
    "print(\"Standard Deviation of each column:\", standard_deviations)"
   ]
  },
  {
   "cell_type": "code",
   "execution_count": null,
   "id": "bed5923e",
   "metadata": {},
   "outputs": [],
   "source": [
    "#15.Compute the matrix multiplication of a with its transpose."
   ]
  },
  {
   "cell_type": "code",
   "execution_count": 16,
   "id": "9639fbd9",
   "metadata": {},
   "outputs": [
    {
     "name": "stdout",
     "output_type": "stream",
     "text": [
      "[[0.25 0.   0.   0.   0.  ]\n",
      " [0.   0.25 0.   0.   0.  ]\n",
      " [0.   0.   0.25 0.   0.  ]\n",
      " [0.   0.   0.   0.25 0.  ]\n",
      " [0.   0.   0.   0.   0.25]]\n"
     ]
    }
   ],
   "source": [
    "a_transpose=np.transpose(a)\n",
    "\n",
    "multiply=np.dot(a,a_transpose)\n",
    "\n",
    "print(multiply)"
   ]
  },
  {
   "cell_type": "code",
   "execution_count": null,
   "id": "02090fbd",
   "metadata": {},
   "outputs": [],
   "source": [
    "# 16.Create a 2D NumPy array c with dimensions 6x6 and values 1 in the diagonal and 0 elsewhere. Use the np.roll()\n",
    "# function to shift the values in each row to the right by one position."
   ]
  },
  {
   "cell_type": "code",
   "execution_count": 17,
   "id": "626b5ddd",
   "metadata": {},
   "outputs": [
    {
     "name": "stdout",
     "output_type": "stream",
     "text": [
      "Original array 'c':\n",
      "[[1. 0. 0. 0. 0. 0.]\n",
      " [0. 1. 0. 0. 0. 0.]\n",
      " [0. 0. 1. 0. 0. 0.]\n",
      " [0. 0. 0. 1. 0. 0.]\n",
      " [0. 0. 0. 0. 1. 0.]\n",
      " [0. 0. 0. 0. 0. 1.]]\n",
      "\n",
      "Shifted array 'c':\n",
      "[[0. 1. 0. 0. 0. 0.]\n",
      " [0. 0. 1. 0. 0. 0.]\n",
      " [0. 0. 0. 1. 0. 0.]\n",
      " [0. 0. 0. 0. 1. 0.]\n",
      " [0. 0. 0. 0. 0. 1.]\n",
      " [1. 0. 0. 0. 0. 0.]]\n"
     ]
    }
   ],
   "source": [
    "c = np.eye(6)\n",
    "\n",
    "c_shifted = np.roll(c, 1, axis=1)\n",
    "\n",
    "print(\"Original array 'c':\")\n",
    "print(c)\n",
    "print(\"\\nShifted array 'c':\")\n",
    "print(c_shifted)"
   ]
  },
  {
   "cell_type": "code",
   "execution_count": null,
   "id": "17d1e0cc",
   "metadata": {},
   "outputs": [],
   "source": [
    "# 17.Create a 2D NumPy array d with dimensions 4x4 and random values between 0 and 1. Normalize the values in each row to \n",
    "# have a sum of 1."
   ]
  },
  {
   "cell_type": "code",
   "execution_count": 25,
   "id": "71a4ac2b",
   "metadata": {},
   "outputs": [
    {
     "name": "stdout",
     "output_type": "stream",
     "text": [
      "Original array 'd':\n",
      "[[0.2920331  0.58736434 0.18387408 0.19033514]\n",
      " [0.22579079 0.21833601 0.34104623 0.68589093]\n",
      " [0.99437772 0.55315941 0.05208274 0.26431261]\n",
      " [0.87897151 0.39278099 0.40165625 0.19885217]]\n",
      "\n",
      "Normalized array 'd':\n",
      "[[0.23295433 0.46853958 0.14667605 0.15183003]\n",
      " [0.15348808 0.14842048 0.23183644 0.466255  ]\n",
      " [0.53348377 0.29677009 0.02794239 0.14180375]\n",
      " [0.46947063 0.20978966 0.21453006 0.10620965]]\n"
     ]
    }
   ],
   "source": [
    "d = np.random.rand(4, 4)\n",
    "\n",
    "\n",
    "row_sums = d.sum(axis=1) \n",
    "normalized_d = d / row_sums[:, np.newaxis]  \n",
    "\n",
    "print(\"Original array 'd':\")\n",
    "print(d)\n",
    "print(\"\\nNormalized array 'd':\")\n",
    "print(normalized_d)"
   ]
  },
  {
   "cell_type": "code",
   "execution_count": 24,
   "id": "9258e85d",
   "metadata": {},
   "outputs": [],
   "source": [
    "# 18.Create a 2D NumPy array e with dimensions 3x3 and values 1 through 9. Use the np.flipud() function to flip the matrix\n",
    "# vertically."
   ]
  },
  {
   "cell_type": "code",
   "execution_count": 26,
   "id": "54da7ece",
   "metadata": {},
   "outputs": [
    {
     "name": "stdout",
     "output_type": "stream",
     "text": [
      "Original array 'e':\n",
      "[[1 2 3]\n",
      " [4 5 6]\n",
      " [7 8 9]]\n",
      "\n",
      "Vertically flipped array 'e':\n",
      "[[7 8 9]\n",
      " [4 5 6]\n",
      " [1 2 3]]\n"
     ]
    }
   ],
   "source": [
    "e = np.arange(1, 10).reshape(3, 3)\n",
    "\n",
    "e_flipped = np.flipud(e)\n",
    "\n",
    "print(\"Original array 'e':\")\n",
    "print(e)\n",
    "print(\"\\nVertically flipped array 'e':\")\n",
    "print(e_flipped)"
   ]
  },
  {
   "cell_type": "code",
   "execution_count": null,
   "id": "c8b09504",
   "metadata": {},
   "outputs": [],
   "source": [
    "# 19.Create a 2D NumPy array f with dimensions 4x4 and random integer values between 0 and 10. Sort the values in each \n",
    "# row in ascending order."
   ]
  },
  {
   "cell_type": "code",
   "execution_count": 27,
   "id": "b70ea2d6",
   "metadata": {},
   "outputs": [
    {
     "name": "stdout",
     "output_type": "stream",
     "text": [
      "Original array 'f':\n",
      "[[ 1  8  3  2]\n",
      " [ 4 10  8  2]\n",
      " [ 6  3  0  2]\n",
      " [ 3  9  0  6]]\n",
      "\n",
      "Sorted array 'f' in each row:\n",
      "[[ 1  2  3  8]\n",
      " [ 2  4  8 10]\n",
      " [ 0  2  3  6]\n",
      " [ 0  3  6  9]]\n"
     ]
    }
   ],
   "source": [
    "f = np.random.randint(0, 11, size=(4, 4))\n",
    "\n",
    "sorted_f = np.sort(f, axis=1)\n",
    "\n",
    "print(\"Original array 'f':\")\n",
    "print(f)\n",
    "print(\"\\nSorted array 'f' in each row:\")\n",
    "print(sorted_f)"
   ]
  },
  {
   "cell_type": "code",
   "execution_count": null,
   "id": "6898d8d4",
   "metadata": {},
   "outputs": [],
   "source": [
    "# 20.Create a 2D NumPy array g with dimensions 5x5 and values 0 in the diagonal and 1 elsewhere. Use the np.linalg.inv() \n",
    "# function to compute the inverse of the matrix."
   ]
  },
  {
   "cell_type": "code",
   "execution_count": 29,
   "id": "47013cce",
   "metadata": {},
   "outputs": [
    {
     "name": "stdout",
     "output_type": "stream",
     "text": [
      "Array 'g' with 0 in diagonal and 1 elsewhere:\n",
      "[[0. 1. 1. 1. 1.]\n",
      " [1. 0. 1. 1. 1.]\n",
      " [1. 1. 0. 1. 1.]\n",
      " [1. 1. 1. 0. 1.]\n",
      " [1. 1. 1. 1. 0.]]\n"
     ]
    }
   ],
   "source": [
    "g = np.eye(5)\n",
    "\n",
    "g = 1 - g\n",
    "\n",
    "print(\"Array 'g' with 0 in diagonal and 1 elsewhere:\")\n",
    "print(g)"
   ]
  }
 ],
 "metadata": {
  "kernelspec": {
   "display_name": "Python 3 (ipykernel)",
   "language": "python",
   "name": "python3"
  },
  "language_info": {
   "codemirror_mode": {
    "name": "ipython",
    "version": 3
   },
   "file_extension": ".py",
   "mimetype": "text/x-python",
   "name": "python",
   "nbconvert_exporter": "python",
   "pygments_lexer": "ipython3",
   "version": "3.11.5"
  }
 },
 "nbformat": 4,
 "nbformat_minor": 5
}
